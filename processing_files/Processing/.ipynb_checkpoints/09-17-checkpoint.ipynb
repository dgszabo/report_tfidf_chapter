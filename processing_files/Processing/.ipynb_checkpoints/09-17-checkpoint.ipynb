{
 "cells": [
  {
   "cell_type": "code",
   "execution_count": 15,
   "metadata": {},
   "outputs": [
    {
     "name": "stdout",
     "output_type": "stream",
     "text": [
      "259\n"
     ]
    }
   ],
   "source": [
    "import csv\n",
    "import glob\n",
    "import pandas as pd\n",
    "\n",
    "list_of_files = glob.glob('/Users/dgszabo/Dropbox/Dani/ASB-AU archive/Conferences and Courses/2017-09-Non-financial reporting/Reports/Test selection/Tester/*.csv')\n",
    "word_list = []\n",
    "\n",
    "for file_name in list_of_files:\n",
    "    with open(file_name) as csvfile:\n",
    "        df = pd.read_csv(csvfile)\n",
    "        for item in df[\"Year\"]:\n",
    "            if item not in word_list:\n",
    "                word_list.append(item)\n",
    "        \n",
    "print(len(word_list))"
   ]
  },
  {
   "cell_type": "code",
   "execution_count": null,
   "metadata": {
    "collapsed": true
   },
   "outputs": [],
   "source": [
    "csvdict = {}\n",
    "    with open(file_name) as csvfile:\n",
    "        csvdict = csvfile.reader()"
   ]
  },
  {
   "cell_type": "code",
   "execution_count": null,
   "metadata": {
    "collapsed": true
   },
   "outputs": [],
   "source": []
  }
 ],
 "metadata": {
  "kernelspec": {
   "display_name": "Python 3",
   "language": "python",
   "name": "python3"
  },
  "language_info": {
   "codemirror_mode": {
    "name": "ipython",
    "version": 3
   },
   "file_extension": ".py",
   "mimetype": "text/x-python",
   "name": "python",
   "nbconvert_exporter": "python",
   "pygments_lexer": "ipython3",
   "version": "3.6.1"
  }
 },
 "nbformat": 4,
 "nbformat_minor": 2
}
